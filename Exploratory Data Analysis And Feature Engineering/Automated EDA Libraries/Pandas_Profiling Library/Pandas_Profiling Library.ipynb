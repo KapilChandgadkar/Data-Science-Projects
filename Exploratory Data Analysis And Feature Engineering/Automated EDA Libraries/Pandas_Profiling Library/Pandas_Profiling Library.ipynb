{
 "cells": [
  {
   "cell_type": "markdown",
   "metadata": {},
   "source": [
    "# Automated EDA Techniques"
   ]
  },
  {
   "cell_type": "markdown",
   "metadata": {},
   "source": [
    "1)Pandas Profiling Library:-Pandas-Profiling generates profile reports from a pandas DataFrame.The pandas df.describe() function is handy yet a little basic for exploratory data analysis.Pandas-Profiling extends pandas DataFrame with df."
   ]
  },
  {
   "cell_type": "code",
   "execution_count": 1,
   "metadata": {},
   "outputs": [
    {
     "name": "stdout",
     "output_type": "stream",
     "text": [
      "Requirement already satisfied: pandas-profiling in c:\\users\\kapil\\anaconda3\\lib\\site-packages (3.3.0)Note: you may need to restart the kernel to use updated packages.\n",
      "Requirement already satisfied: phik<0.13,>=0.11.1 in c:\\users\\kapil\\anaconda3\\lib\\site-packages (from pandas-profiling) (0.12.2)\n",
      "Requirement already satisfied: statsmodels<0.14,>=0.13.2 in c:\\users\\kapil\\anaconda3\\lib\\site-packages (from pandas-profiling) (0.13.2)\n",
      "Requirement already satisfied: tqdm<4.65,>=4.48.2 in c:\\users\\kapil\\anaconda3\\lib\\site-packages (from pandas-profiling) (4.64.1)\n",
      "Requirement already satisfied: pandas!=1.4.0,<1.5,>1.1 in c:\\users\\kapil\\anaconda3\\lib\\site-packages (from pandas-profiling) (1.4.4)\n",
      "Requirement already satisfied: jinja2<3.2,>=2.11.1 in c:\\users\\kapil\\anaconda3\\lib\\site-packages (from pandas-profiling) (3.0.3)\n",
      "Requirement already satisfied: joblib~=1.1.0 in c:\\users\\kapil\\anaconda3\\lib\\site-packages (from pandas-profiling) (1.1.0)\n",
      "Requirement already satisfied: scipy<1.10,>=1.4.1 in c:\\users\\kapil\\anaconda3\\lib\\site-packages (from pandas-profiling) (1.5.0)\n",
      "Requirement already satisfied: htmlmin==0.1.12 in c:\\users\\kapil\\anaconda3\\lib\\site-packages (from pandas-profiling) (0.1.12)\n",
      "Requirement already satisfied: tangled-up-in-unicode==0.2.0 in c:\\users\\kapil\\anaconda3\\lib\\site-packages (from pandas-profiling) (0.2.0)\n",
      "Requirement already satisfied: PyYAML<6.1,>=5.0.0 in c:\\users\\kapil\\anaconda3\\lib\\site-packages (from pandas-profiling) (5.3.1)\n",
      "Requirement already satisfied: requests<2.29,>=2.24.0 in c:\\users\\kapil\\anaconda3\\lib\\site-packages (from pandas-profiling) (2.24.0)\n",
      "Requirement already satisfied: matplotlib<3.6,>=3.2 in c:\\users\\kapil\\anaconda3\\lib\\site-packages (from pandas-profiling) (3.2.2)\n",
      "Requirement already satisfied: visions[type_image_path]==0.7.5 in c:\\users\\kapil\\anaconda3\\lib\\site-packages (from pandas-profiling) (0.7.5)\n",
      "Requirement already satisfied: numpy<1.24,>=1.16.0 in c:\\users\\kapil\\anaconda3\\lib\\site-packages (from pandas-profiling) (1.18.5)\n",
      "Requirement already satisfied: missingno<0.6,>=0.4.2 in c:\\users\\kapil\\anaconda3\\lib\\site-packages (from pandas-profiling) (0.5.1)\n",
      "Requirement already satisfied: seaborn<0.12,>=0.10.1 in c:\\users\\kapil\\anaconda3\\lib\\site-packages (from pandas-profiling) (0.10.1)\n",
      "Requirement already satisfied: multimethod<1.9,>=1.4 in c:\\users\\kapil\\anaconda3\\lib\\site-packages (from pandas-profiling) (1.8)\n",
      "Requirement already satisfied: pydantic<1.10,>=1.8.1 in c:\\users\\kapil\\anaconda3\\lib\\site-packages (from pandas-profiling) (1.9.2)\n",
      "Requirement already satisfied: patsy>=0.5.2 in c:\\users\\kapil\\anaconda3\\lib\\site-packages (from statsmodels<0.14,>=0.13.2->pandas-profiling) (0.5.2)\n",
      "\n",
      "Requirement already satisfied: packaging>=21.3 in c:\\users\\kapil\\anaconda3\\lib\\site-packages (from statsmodels<0.14,>=0.13.2->pandas-profiling) (21.3)\n",
      "Requirement already satisfied: colorama; platform_system == \"Windows\" in c:\\users\\kapil\\anaconda3\\lib\\site-packages (from tqdm<4.65,>=4.48.2->pandas-profiling) (0.4.3)\n",
      "Requirement already satisfied: python-dateutil>=2.8.1 in c:\\users\\kapil\\anaconda3\\lib\\site-packages (from pandas!=1.4.0,<1.5,>1.1->pandas-profiling) (2.8.1)\n",
      "Requirement already satisfied: pytz>=2020.1 in c:\\users\\kapil\\anaconda3\\lib\\site-packages (from pandas!=1.4.0,<1.5,>1.1->pandas-profiling) (2020.1)\n",
      "Requirement already satisfied: MarkupSafe>=2.0 in c:\\users\\kapil\\anaconda3\\lib\\site-packages (from jinja2<3.2,>=2.11.1->pandas-profiling) (2.1.1)\n",
      "Requirement already satisfied: urllib3!=1.25.0,!=1.25.1,<1.26,>=1.21.1 in c:\\users\\kapil\\anaconda3\\lib\\site-packages (from requests<2.29,>=2.24.0->pandas-profiling) (1.25.9)\n",
      "Requirement already satisfied: chardet<4,>=3.0.2 in c:\\users\\kapil\\anaconda3\\lib\\site-packages (from requests<2.29,>=2.24.0->pandas-profiling) (3.0.4)\n",
      "Requirement already satisfied: certifi>=2017.4.17 in c:\\users\\kapil\\anaconda3\\lib\\site-packages (from requests<2.29,>=2.24.0->pandas-profiling) (2022.6.15)\n",
      "Requirement already satisfied: idna<3,>=2.5 in c:\\users\\kapil\\anaconda3\\lib\\site-packages (from requests<2.29,>=2.24.0->pandas-profiling) (2.10)\n",
      "Requirement already satisfied: kiwisolver>=1.0.1 in c:\\users\\kapil\\anaconda3\\lib\\site-packages (from matplotlib<3.6,>=3.2->pandas-profiling) (1.2.0)\n",
      "Requirement already satisfied: pyparsing!=2.0.4,!=2.1.2,!=2.1.6,>=2.0.1 in c:\\users\\kapil\\anaconda3\\lib\\site-packages (from matplotlib<3.6,>=3.2->pandas-profiling) (2.4.7)\n",
      "Requirement already satisfied: cycler>=0.10 in c:\\users\\kapil\\anaconda3\\lib\\site-packages (from matplotlib<3.6,>=3.2->pandas-profiling) (0.10.0)\n",
      "Requirement already satisfied: networkx>=2.4 in c:\\users\\kapil\\anaconda3\\lib\\site-packages (from visions[type_image_path]==0.7.5->pandas-profiling) (2.4)\n",
      "Requirement already satisfied: attrs>=19.3.0 in c:\\users\\kapil\\anaconda3\\lib\\site-packages (from visions[type_image_path]==0.7.5->pandas-profiling) (19.3.0)\n",
      "Requirement already satisfied: Pillow; extra == \"type_image_path\" in c:\\users\\kapil\\anaconda3\\lib\\site-packages (from visions[type_image_path]==0.7.5->pandas-profiling) (7.2.0)\n",
      "Requirement already satisfied: imagehash; extra == \"type_image_path\" in c:\\users\\kapil\\anaconda3\\lib\\site-packages (from visions[type_image_path]==0.7.5->pandas-profiling) (4.3.1)\n",
      "Requirement already satisfied: typing-extensions>=3.7.4.3 in c:\\users\\kapil\\anaconda3\\lib\\site-packages (from pydantic<1.10,>=1.8.1->pandas-profiling) (4.3.0)\n",
      "Requirement already satisfied: six in c:\\users\\kapil\\anaconda3\\lib\\site-packages (from patsy>=0.5.2->statsmodels<0.14,>=0.13.2->pandas-profiling) (1.15.0)\n",
      "Requirement already satisfied: decorator>=4.3.0 in c:\\users\\kapil\\anaconda3\\lib\\site-packages (from networkx>=2.4->visions[type_image_path]==0.7.5->pandas-profiling) (4.4.2)\n",
      "Requirement already satisfied: PyWavelets in c:\\users\\kapil\\anaconda3\\lib\\site-packages (from imagehash; extra == \"type_image_path\"->visions[type_image_path]==0.7.5->pandas-profiling) (1.1.1)\n"
     ]
    }
   ],
   "source": [
    "pip install pandas-profiling"
   ]
  },
  {
   "cell_type": "code",
   "execution_count": 6,
   "metadata": {},
   "outputs": [],
   "source": [
    "import pandas_profiling"
   ]
  },
  {
   "cell_type": "code",
   "execution_count": 7,
   "metadata": {},
   "outputs": [],
   "source": [
    "import seaborn as sns\n",
    "df=sns.load_dataset('tips')"
   ]
  },
  {
   "cell_type": "code",
   "execution_count": 8,
   "metadata": {},
   "outputs": [
    {
     "data": {
      "text/html": [
       "<div>\n",
       "<style scoped>\n",
       "    .dataframe tbody tr th:only-of-type {\n",
       "        vertical-align: middle;\n",
       "    }\n",
       "\n",
       "    .dataframe tbody tr th {\n",
       "        vertical-align: top;\n",
       "    }\n",
       "\n",
       "    .dataframe thead th {\n",
       "        text-align: right;\n",
       "    }\n",
       "</style>\n",
       "<table border=\"1\" class=\"dataframe\">\n",
       "  <thead>\n",
       "    <tr style=\"text-align: right;\">\n",
       "      <th></th>\n",
       "      <th>total_bill</th>\n",
       "      <th>tip</th>\n",
       "      <th>sex</th>\n",
       "      <th>smoker</th>\n",
       "      <th>day</th>\n",
       "      <th>time</th>\n",
       "      <th>size</th>\n",
       "    </tr>\n",
       "  </thead>\n",
       "  <tbody>\n",
       "    <tr>\n",
       "      <th>0</th>\n",
       "      <td>16.99</td>\n",
       "      <td>1.01</td>\n",
       "      <td>Female</td>\n",
       "      <td>No</td>\n",
       "      <td>Sun</td>\n",
       "      <td>Dinner</td>\n",
       "      <td>2</td>\n",
       "    </tr>\n",
       "    <tr>\n",
       "      <th>1</th>\n",
       "      <td>10.34</td>\n",
       "      <td>1.66</td>\n",
       "      <td>Male</td>\n",
       "      <td>No</td>\n",
       "      <td>Sun</td>\n",
       "      <td>Dinner</td>\n",
       "      <td>3</td>\n",
       "    </tr>\n",
       "    <tr>\n",
       "      <th>2</th>\n",
       "      <td>21.01</td>\n",
       "      <td>3.50</td>\n",
       "      <td>Male</td>\n",
       "      <td>No</td>\n",
       "      <td>Sun</td>\n",
       "      <td>Dinner</td>\n",
       "      <td>3</td>\n",
       "    </tr>\n",
       "    <tr>\n",
       "      <th>3</th>\n",
       "      <td>23.68</td>\n",
       "      <td>3.31</td>\n",
       "      <td>Male</td>\n",
       "      <td>No</td>\n",
       "      <td>Sun</td>\n",
       "      <td>Dinner</td>\n",
       "      <td>2</td>\n",
       "    </tr>\n",
       "    <tr>\n",
       "      <th>4</th>\n",
       "      <td>24.59</td>\n",
       "      <td>3.61</td>\n",
       "      <td>Female</td>\n",
       "      <td>No</td>\n",
       "      <td>Sun</td>\n",
       "      <td>Dinner</td>\n",
       "      <td>4</td>\n",
       "    </tr>\n",
       "  </tbody>\n",
       "</table>\n",
       "</div>"
      ],
      "text/plain": [
       "   total_bill   tip     sex smoker  day    time  size\n",
       "0       16.99  1.01  Female     No  Sun  Dinner     2\n",
       "1       10.34  1.66    Male     No  Sun  Dinner     3\n",
       "2       21.01  3.50    Male     No  Sun  Dinner     3\n",
       "3       23.68  3.31    Male     No  Sun  Dinner     2\n",
       "4       24.59  3.61  Female     No  Sun  Dinner     4"
      ]
     },
     "execution_count": 8,
     "metadata": {},
     "output_type": "execute_result"
    }
   ],
   "source": [
    "df.head()"
   ]
  },
  {
   "cell_type": "code",
   "execution_count": 9,
   "metadata": {},
   "outputs": [
    {
     "data": {
      "application/vnd.jupyter.widget-view+json": {
       "model_id": "7ebabad345b0416f9c830378b9a5f38f",
       "version_major": 2,
       "version_minor": 0
      },
      "text/plain": [
       "Summarize dataset:   0%|          | 0/21 [00:00<?, ?it/s]"
      ]
     },
     "metadata": {},
     "output_type": "display_data"
    },
    {
     "data": {
      "application/vnd.jupyter.widget-view+json": {
       "model_id": "584c3367e8b140949b544981db05160e",
       "version_major": 2,
       "version_minor": 0
      },
      "text/plain": [
       "Generate report structure:   0%|          | 0/1 [00:00<?, ?it/s]"
      ]
     },
     "metadata": {},
     "output_type": "display_data"
    },
    {
     "data": {
      "application/vnd.jupyter.widget-view+json": {
       "model_id": "2aee1466c3634109b83bc3e31bd38a09",
       "version_major": 2,
       "version_minor": 0
      },
      "text/plain": [
       "Render HTML:   0%|          | 0/1 [00:00<?, ?it/s]"
      ]
     },
     "metadata": {},
     "output_type": "display_data"
    },
    {
     "data": {
      "application/vnd.jupyter.widget-view+json": {
       "model_id": "c9acaf429b6b403a915a79f4c6ec1a51",
       "version_major": 2,
       "version_minor": 0
      },
      "text/plain": [
       "Export report to file:   0%|          | 0/1 [00:00<?, ?it/s]"
      ]
     },
     "metadata": {},
     "output_type": "display_data"
    }
   ],
   "source": [
    "from pandas_profiling import ProfileReport\n",
    "profile=ProfileReport(df,explorative=True,dark_mode=True)\n",
    "profile.to_file('output.html')"
   ]
  },
  {
   "cell_type": "code",
   "execution_count": null,
   "metadata": {},
   "outputs": [],
   "source": []
  }
 ],
 "metadata": {
  "kernelspec": {
   "display_name": "Python 3",
   "language": "python",
   "name": "python3"
  },
  "language_info": {
   "codemirror_mode": {
    "name": "ipython",
    "version": 3
   },
   "file_extension": ".py",
   "mimetype": "text/x-python",
   "name": "python",
   "nbconvert_exporter": "python",
   "pygments_lexer": "ipython3",
   "version": "3.8.3"
  }
 },
 "nbformat": 4,
 "nbformat_minor": 4
}
