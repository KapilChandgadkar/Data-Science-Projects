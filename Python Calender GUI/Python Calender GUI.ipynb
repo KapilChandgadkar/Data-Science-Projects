{
 "cells": [
  {
   "cell_type": "code",
   "execution_count": 37,
   "metadata": {},
   "outputs": [],
   "source": [
    "#Importing tkinter module\n",
    "from tkinter import *\n",
    "#importing calendar module\n",
    "import calendar\n",
    "\n",
    "#function to show calendar of the given year\n",
    "def showCalender():\n",
    "    gui=Tk()\n",
    "    gui.config(background='skyblue')\n",
    "    gui.title(\"Calender for the year\")\n",
    "    gui.geometry(\"550x600\")\n",
    "    year=int(year_field.get())\n",
    "    gui_content=calendar.calendar(year)\n",
    "    calYear= Label(gui,text= gui_content, font= \"Consolas 10 bold\")\n",
    "    calYear.grid(row=5,column=1,padx=20,pady=20)\n",
    "    gui.mainloop()\n",
    "    \n",
    "if __name__=='__main__':\n",
    "    new = Tk()\n",
    "    new.config(background='grey')\n",
    "    new.title(\"Calender\")\n",
    "    new.geometry(\"165x140\")\n",
    "    cal=Label(new,text=\"Calender\",fg='black',bg='grey',font=(\"times\", 30, \"bold\"))\n",
    "    year=Label(new,text=\"Enter year\",bg='skyblue',padx=5,pady=5)\n",
    "    year_field=Entry(new)\n",
    "    button=Button(new,text='Show Calender',fg='Black',bg='skyblue',command=showCalender,padx=5,pady=5)\n",
    "    #button=Button(new,text='Exit',fg='Black',bg='blue',command=exit)\n",
    "\n",
    "    #putting widgets in position\n",
    "    cal.grid(row=1,column=1)\n",
    "    year.grid(row=2,column=1)\n",
    "    year_field.grid(row=3,column=1)\n",
    "    button.grid(row=4,column=1)\n",
    "    #Exit.grid(row=5,column=1)\n",
    "    new.mainloop()\n"
   ]
  },
  {
   "cell_type": "code",
   "execution_count": null,
   "metadata": {},
   "outputs": [],
   "source": []
  },
  {
   "cell_type": "code",
   "execution_count": null,
   "metadata": {},
   "outputs": [],
   "source": []
  }
 ],
 "metadata": {
  "kernelspec": {
   "display_name": "Python 3",
   "language": "python",
   "name": "python3"
  },
  "language_info": {
   "codemirror_mode": {
    "name": "ipython",
    "version": 3
   },
   "file_extension": ".py",
   "mimetype": "text/x-python",
   "name": "python",
   "nbconvert_exporter": "python",
   "pygments_lexer": "ipython3",
   "version": "3.8.3"
  }
 },
 "nbformat": 4,
 "nbformat_minor": 4
}
